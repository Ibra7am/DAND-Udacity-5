{
 "cells": [
  {
   "cell_type": "markdown",
   "metadata": {},
   "source": [
    "# Wrangle Report"
   ]
  },
  {
   "cell_type": "markdown",
   "metadata": {},
   "source": [
    "In this project, heterogeneous file resources and types were gathered, assessed and cleaned. And then stored as a one, ready-to-analyze master csv file, After that, some analysis was performed on that master cleaned csv file.\n",
    "The following is a summary of each phase:\n",
    "\n",
    "## Gather\n",
    "\n",
    "Data were gathered from three resources:\n",
    "- The first one was given as a csv file, namely `twitter-archive-enhanced.csv`, which was provided by WeRateDogs twitter account to Udacity and then to us. Then, the data was imported as a pandas dataframe `twitter-archive`.\n",
    "\n",
    "\n",
    "- The second one was programmatically fetched from the URL `https://d17h27t6h515a5.cloudfront.net/topher/2017/August/599fd2ad_image-predictions/image-predictions.tsv` with which the response has been processed and saved into a tsv file, namely `image-predictions.tsv`. Then, the data was imported as a pandas dataframe `image-predictions`.\n",
    "\n",
    "\n",
    "- The third one was through Twitter API, we fetched the data of those tweets we have and then saved them as a JSON file with UTF-8 encoding, namely `tweet-json.txt`, Then, the data was extracted as a pandas dataframe `tweet-info`.\n",
    "\n",
    "\n",
    "## Assess\n",
    "Two types of assessments were performed, visual assessment and programmatic assessment. And the following issues were found:\n",
    "\n",
    "#### Quality\n",
    "##### `twitter_archive`\n",
    "- 'in_reply_to_status_id', 'in_reply_to_user_id', 'retweeted_status_id', 'retweeted_status_user_id' are of type float, they should be string or integers\n",
    "- 'timestamp','retweeted_status_timestamp' should be of type datetime\n",
    "- Missing values in dog stage columns have \"None\" instade of NaN\n",
    "- 'rating_numerator' and 'rating_denominator' has some invalid values like 0, 1776 or 170\n",
    "- Invalid names or \"None\" found in 'name' column for many dogs, like a, an, the, such, etc.. \n",
    "- Not all 'text' column content is shown, the endings are truncated \n",
    "- 'source' column has extra text that makes it less readable\n",
    "- Has missing values in colmun 'expanded_urls'\n",
    "\n",
    "##### `tweet_info`\n",
    "- 2 tweet_id information are missing\n",
    "\n",
    "#### Tidiness\n",
    "- In `twitter_archive` dog stages are poorly structured into multiple columns, where one column is enough\n",
    "- `tweet_info` and `image_predictions` can be merged with `twitter_archive` \n",
    "\n",
    "\n",
    "## Clean\n",
    "\n",
    "All the issues mentioned in the assessment phase were resolved programmatically. For example, the four columns on the dog stage were merged into one column, some erroneous column data types were changed to the appropriate type, some invalid data were handled such as some invalid dog ratings found in the given data and so on. Finally, cleaned data files were merged as one file to make the data ready for analysis."
   ]
  },
  {
   "cell_type": "code",
   "execution_count": 2,
   "metadata": {},
   "outputs": [
    {
     "data": {
      "text/plain": [
       "0"
      ]
     },
     "execution_count": 2,
     "metadata": {},
     "output_type": "execute_result"
    }
   ],
   "source": [
    "from subprocess import call\n",
    "call(['python', '-m', 'nbconvert', 'wrangle_report.ipynb'])"
   ]
  }
 ],
 "metadata": {
  "kernelspec": {
   "display_name": "Python 3",
   "language": "python",
   "name": "python3"
  },
  "language_info": {
   "codemirror_mode": {
    "name": "ipython",
    "version": 3
   },
   "file_extension": ".py",
   "mimetype": "text/x-python",
   "name": "python",
   "nbconvert_exporter": "python",
   "pygments_lexer": "ipython3",
   "version": "3.7.1"
  }
 },
 "nbformat": 4,
 "nbformat_minor": 2
}
